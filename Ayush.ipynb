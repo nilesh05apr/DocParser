{
  "nbformat": 4,
  "nbformat_minor": 0,
  "metadata": {
    "colab": {
      "provenance": []
    },
    "kernelspec": {
      "name": "python3",
      "display_name": "Python 3"
    },
    "language_info": {
      "name": "python"
    }
  },
  "cells": [
    {
      "cell_type": "code",
      "source": [
        "!pip install langchain"
      ],
      "metadata": {
        "colab": {
          "base_uri": "https://localhost:8080/"
        },
        "id": "x_VZWobuu7OR",
        "outputId": "e01d2d13-4bb9-46c5-e4cb-553f173c761f"
      },
      "execution_count": null,
      "outputs": [
        {
          "output_type": "stream",
          "name": "stdout",
          "text": [
            "Collecting langchain\n",
            "  Downloading langchain-0.0.285-py3-none-any.whl (1.7 MB)\n",
            "\u001b[2K     \u001b[90m━━━━━━━━━━━━━━━━━━━━━━━━━━━━━━━━━━━━━━━━\u001b[0m \u001b[32m1.7/1.7 MB\u001b[0m \u001b[31m8.7 MB/s\u001b[0m eta \u001b[36m0:00:00\u001b[0m\n",
            "\u001b[?25hRequirement already satisfied: PyYAML>=5.3 in /usr/local/lib/python3.10/dist-packages (from langchain) (6.0.1)\n",
            "Requirement already satisfied: SQLAlchemy<3,>=1.4 in /usr/local/lib/python3.10/dist-packages (from langchain) (2.0.20)\n",
            "Requirement already satisfied: aiohttp<4.0.0,>=3.8.3 in /usr/local/lib/python3.10/dist-packages (from langchain) (3.8.5)\n",
            "Requirement already satisfied: async-timeout<5.0.0,>=4.0.0 in /usr/local/lib/python3.10/dist-packages (from langchain) (4.0.3)\n",
            "Collecting dataclasses-json<0.6.0,>=0.5.7 (from langchain)\n",
            "  Downloading dataclasses_json-0.5.14-py3-none-any.whl (26 kB)\n",
            "Collecting langsmith<0.1.0,>=0.0.21 (from langchain)\n",
            "  Downloading langsmith-0.0.35-py3-none-any.whl (37 kB)\n",
            "Requirement already satisfied: numexpr<3.0.0,>=2.8.4 in /usr/local/lib/python3.10/dist-packages (from langchain) (2.8.5)\n",
            "Requirement already satisfied: numpy<2,>=1 in /usr/local/lib/python3.10/dist-packages (from langchain) (1.23.5)\n",
            "Requirement already satisfied: pydantic<3,>=1 in /usr/local/lib/python3.10/dist-packages (from langchain) (1.10.12)\n",
            "Requirement already satisfied: requests<3,>=2 in /usr/local/lib/python3.10/dist-packages (from langchain) (2.31.0)\n",
            "Requirement already satisfied: tenacity<9.0.0,>=8.1.0 in /usr/local/lib/python3.10/dist-packages (from langchain) (8.2.3)\n",
            "Requirement already satisfied: attrs>=17.3.0 in /usr/local/lib/python3.10/dist-packages (from aiohttp<4.0.0,>=3.8.3->langchain) (23.1.0)\n",
            "Requirement already satisfied: charset-normalizer<4.0,>=2.0 in /usr/local/lib/python3.10/dist-packages (from aiohttp<4.0.0,>=3.8.3->langchain) (3.2.0)\n",
            "Requirement already satisfied: multidict<7.0,>=4.5 in /usr/local/lib/python3.10/dist-packages (from aiohttp<4.0.0,>=3.8.3->langchain) (6.0.4)\n",
            "Requirement already satisfied: yarl<2.0,>=1.0 in /usr/local/lib/python3.10/dist-packages (from aiohttp<4.0.0,>=3.8.3->langchain) (1.9.2)\n",
            "Requirement already satisfied: frozenlist>=1.1.1 in /usr/local/lib/python3.10/dist-packages (from aiohttp<4.0.0,>=3.8.3->langchain) (1.4.0)\n",
            "Requirement already satisfied: aiosignal>=1.1.2 in /usr/local/lib/python3.10/dist-packages (from aiohttp<4.0.0,>=3.8.3->langchain) (1.3.1)\n",
            "Collecting marshmallow<4.0.0,>=3.18.0 (from dataclasses-json<0.6.0,>=0.5.7->langchain)\n",
            "  Downloading marshmallow-3.20.1-py3-none-any.whl (49 kB)\n",
            "\u001b[2K     \u001b[90m━━━━━━━━━━━━━━━━━━━━━━━━━━━━━━━━━━━━━━━━\u001b[0m \u001b[32m49.4/49.4 kB\u001b[0m \u001b[31m5.8 MB/s\u001b[0m eta \u001b[36m0:00:00\u001b[0m\n",
            "\u001b[?25hCollecting typing-inspect<1,>=0.4.0 (from dataclasses-json<0.6.0,>=0.5.7->langchain)\n",
            "  Downloading typing_inspect-0.9.0-py3-none-any.whl (8.8 kB)\n",
            "Requirement already satisfied: typing-extensions>=4.2.0 in /usr/local/lib/python3.10/dist-packages (from pydantic<3,>=1->langchain) (4.5.0)\n",
            "Requirement already satisfied: idna<4,>=2.5 in /usr/local/lib/python3.10/dist-packages (from requests<3,>=2->langchain) (3.4)\n",
            "Requirement already satisfied: urllib3<3,>=1.21.1 in /usr/local/lib/python3.10/dist-packages (from requests<3,>=2->langchain) (2.0.4)\n",
            "Requirement already satisfied: certifi>=2017.4.17 in /usr/local/lib/python3.10/dist-packages (from requests<3,>=2->langchain) (2023.7.22)\n",
            "Requirement already satisfied: greenlet!=0.4.17 in /usr/local/lib/python3.10/dist-packages (from SQLAlchemy<3,>=1.4->langchain) (2.0.2)\n",
            "Requirement already satisfied: packaging>=17.0 in /usr/local/lib/python3.10/dist-packages (from marshmallow<4.0.0,>=3.18.0->dataclasses-json<0.6.0,>=0.5.7->langchain) (23.1)\n",
            "Collecting mypy-extensions>=0.3.0 (from typing-inspect<1,>=0.4.0->dataclasses-json<0.6.0,>=0.5.7->langchain)\n",
            "  Downloading mypy_extensions-1.0.0-py3-none-any.whl (4.7 kB)\n",
            "Installing collected packages: mypy-extensions, marshmallow, typing-inspect, langsmith, dataclasses-json, langchain\n",
            "Successfully installed dataclasses-json-0.5.14 langchain-0.0.285 langsmith-0.0.35 marshmallow-3.20.1 mypy-extensions-1.0.0 typing-inspect-0.9.0\n"
          ]
        }
      ]
    },
    {
      "cell_type": "code",
      "source": [
        "!pip install pypdf"
      ],
      "metadata": {
        "colab": {
          "base_uri": "https://localhost:8080/"
        },
        "id": "Y7lUcOkwvGRQ",
        "outputId": "60761667-52cb-494a-bb50-2562d00b7b44"
      },
      "execution_count": null,
      "outputs": [
        {
          "output_type": "stream",
          "name": "stdout",
          "text": [
            "Collecting pypdf\n",
            "  Downloading pypdf-3.15.5-py3-none-any.whl (272 kB)\n",
            "\u001b[?25l     \u001b[90m━━━━━━━━━━━━━━━━━━━━━━━━━━━━━━━━━━━━━━━━\u001b[0m \u001b[32m0.0/272.6 kB\u001b[0m \u001b[31m?\u001b[0m eta \u001b[36m-:--:--\u001b[0m\r\u001b[2K     \u001b[91m━━━━━━━━━━━━━\u001b[0m\u001b[91m╸\u001b[0m\u001b[90m━━━━━━━━━━━━━━━━━━━━━━━━━━\u001b[0m \u001b[32m92.2/272.6 kB\u001b[0m \u001b[31m2.7 MB/s\u001b[0m eta \u001b[36m0:00:01\u001b[0m\r\u001b[2K     \u001b[90m━━━━━━━━━━━━━━━━━━━━━━━━━━━━━━━━━━━━━━━\u001b[0m \u001b[32m272.6/272.6 kB\u001b[0m \u001b[31m4.8 MB/s\u001b[0m eta \u001b[36m0:00:00\u001b[0m\n",
            "\u001b[?25hInstalling collected packages: pypdf\n",
            "Successfully installed pypdf-3.15.5\n"
          ]
        }
      ]
    },
    {
      "cell_type": "code",
      "execution_count": null,
      "metadata": {
        "id": "f-tUikmCuViw"
      },
      "outputs": [],
      "source": [
        "import urllib\n",
        "import warnings\n",
        "from pathlib import Path as p\n",
        "\n",
        "import pandas as pd\n",
        "from langchain import PromptTemplate\n",
        "from langchain.chains.summarize import load_summarize_chain\n",
        "from langchain.document_loaders import PyPDFLoader\n",
        "from langchain.text_splitter import CharacterTextSplitter\n"
      ]
    },
    {
      "cell_type": "code",
      "source": [
        "from langchain.document_loaders import PyPDFLoader\n",
        "\n",
        "loader = PyPDFLoader(\"/content/Test Example 4.pdf\")\n",
        "pages = loader.load_and_split()\n",
        "from langchain.text_splitter import CharacterTextSplitter\n",
        "\n",
        "text_splitter = CharacterTextSplitter(chunk_size=1000, chunk_overlap=0)\n",
        "context = \"\\n\\n\".join(str(p.page_content) for p in pages)\n",
        "texts = text_splitter.split_text(context)"
      ],
      "metadata": {
        "id": "N_ENA6TSulKO",
        "colab": {
          "base_uri": "https://localhost:8080/"
        },
        "outputId": "7ffa8017-4ebd-4bfd-91ad-5d59bf81fccb"
      },
      "execution_count": null,
      "outputs": [
        {
          "output_type": "stream",
          "name": "stderr",
          "text": [
            "WARNING:langchain.text_splitter:Created a chunk of size 2701, which is longer than the specified 1000\n",
            "WARNING:langchain.text_splitter:Created a chunk of size 1402, which is longer than the specified 1000\n",
            "WARNING:langchain.text_splitter:Created a chunk of size 2694, which is longer than the specified 1000\n"
          ]
        }
      ]
    },
    {
      "cell_type": "code",
      "source": [
        "texts"
      ],
      "metadata": {
        "colab": {
          "base_uri": "https://localhost:8080/"
        },
        "id": "tvO7XaqGvCXA",
        "outputId": "e2cae96e-5b65-44c2-9e35-0bc5214f9537"
      },
      "execution_count": null,
      "outputs": [
        {
          "output_type": "execute_result",
          "data": {
            "text/plain": [
              "['© 2022 The Law Society of New South Wales ACN 000 000 699 and The Real Estate Institute of New South Wales ACN 000 012 457  \\nYou can prepare your own version of pages 1 - 4 of this contract. Except as permitted under the Copyright Act 1968 (Cth) or consented to by the \\ncopyright owners (including by way of guidelines issued from time to time), no oth er part of this contract may be reproduced without the specific written \\npermission of The Law Society of New South Wales and The Real Estate Institute of New South Wales  \\n \\nBREACH OF COPYRIGHT MAY RESULT IN LEGAL ACTION  \\n Contract for the sale and purchase of land 2022 edition  \\nTERM  MEANING OF TERM  NSW D AN:       \\nvendor’s agent  Bondi Realty  \\nShop 4, 350 Oxford Street  \\nBondi Junction NSW 2022   Phone: 0418 608 752  \\n Email: marthan@bondirealty.com.au  \\n Ref: Martha Nissirios  \\nco-agent    \\nvendor  Russell David Schnaid and Caley Leanne Schnaid  \\n \\nvendor’s s olicitor  Lazarus Legal Group Pty Ltd  \\nSuite 205, Level 2, 55 Grafton Street, BONDI \\nJUNCTION NSW 2022  \\n Phone:  02 8644 6000  \\nEmail:  barry@lazaruslegal.com.au  \\nFax: 02 8644 6050  \\nRef: BNL:PL:230203  \\ndate for completion  42nd day after the contract date   (clause 15)  \\nland (address,  \\nplan details and  \\ntitle reference)  207/568 Oxford Street, Bondi Junction, New South Wales 2022  \\nRegistered Plan: Lot 14 Plan SP 103144  \\nFolio Identifier 14/SP103144  \\n    \\uf0fe VACANT POSSESSION       ☐ subject to existing tenancies  \\nimprovements  ☐ HOUSE  ☐garage  ☐carport  \\uf0fe home unit  \\uf0fecarspace  \\uf0festorage space  \\n☐ none  ☐other:       \\nattached copies  ☐documents in the List of Documents as marked or as numbered:        \\n ☐other documents:       \\nA real estate agent is permitted by legislation  to fill up the items in this box in a sale of residential property.  \\ninclusions  ☐ air conditioning  ☐ clothes line  \\uf0fe fixed floor coverings  \\uf0fe range hood  \\n  \\uf0fe blinds  ☐ curtains  ☐ insect screens   ☐ solar panels  \\n  \\uf0fe built-in wardrobes  \\uf0fe dishwasher  \\uf0fe light fittings  \\uf0fe stove  \\n☐ ceiling fans  ☐ EV charger  ☐ pool equipment  ☐ TV antenna  \\n  ☐ other:        \\nexclusions   \\npurchaser   \\n \\npurchaser’s solicitor    \\nprice  \\ndeposit  \\nbalance  $1,000,000.00  \\n$100,000.00   (10% of the price, unless otherwise stated)  \\n$900,000.00  \\ncontract date        (if not stated, the date this contract was made)  \\n \\n  Where there is more than one purchaser  ☐ JOINT TENANTS    \\n  ☐ tenants in common ☐ in unequal shares , specif y:       \\nGST AMOUNT  (optional)   The price includes  GST of:  $  \\n    \\n   buyer’s agent          \\n \\n \\nNote:   Clause 20.15 provides “Where this contract provides for choices, a choice in BLOCK CAPITALS applies \\nunless a different choice is marked. ”',\n",
              " '2                                                               Land – 2022 Edition  \\nBREACH OF COPYRIGHT MAY RESULT IN LEGAL ACTION  \\n  \\n \\n \\nSIGNING PAGE  \\nVENDOR  PURCHASER  \\nSigned  by  \\n \\n_____________________________  \\nVendor  \\n \\n \\n_____________________________  \\nVendor  \\n \\n \\n Signed  by  \\n \\n_____________________________  \\nPurchaser  \\n \\n \\n_____________________________  \\nPurchaser  \\n \\n \\n \\nVENDOR (COMPANY)  PURCHASER (COMPANY)  \\nSigned  by __________________________  \\nin accordance with s127(1) of the Corporations Act 2001 by the \\nauthorised person(s) whose signature(s) appear(s) below:  \\n Signed  by __________________________  \\nin accordance with s127(1) of the Corporations Act 2001 by the \\nauthorised person(s) whose signature(s) appear(s) below:  \\n__________________________  \\nSignature of authorised person  \\n__________________________  \\nName of authorised person  \\n__________________________  \\nOffice held  \\n __________________________  \\nSignature of authorised person  \\n__________________________  \\nName of authorised p erson  \\n__________________________  \\nOffice held  __________________________  \\nSignature of authorised person  \\n__________________________  \\nName of authorised person  \\n__________________________  \\nOffice held  ________________________  \\nSignature of authorised person  \\n________________________  \\nName of authorised person  \\n________________________  \\nOffice held',\n",
              " '3                                                                     Land – 2022 Edition  \\nBREACH OF COPYRIGHT MAY RESULT IN LEGAL ACTION  Choices  \\nVendor agrees to accept a deposit -bond  \\uf0feNO ☐yes \\nNominated Electronic Lodgment Network (ELN)  (clause 4): PEXA   \\nManual  transaction  (clause 30)  \\uf0feNO ☐yes \\n (if yes, vendor must provide further details, including \\nany applicable  exception , in the space below ): \\n      \\n \\nTax information (the parties  promise this is correct as far as each party  is aware)  \\nLand tax  is adjustable  ☐NO ☐yes \\nGST: Taxable supply  ☐NO  ☐yes in full  ☐yes to an extent  \\nMargin scheme will be used in making the taxable supply  ☐NO ☐yes  \\nThis sale is not a taxable supply because (one or more of the following may apply) the sale is:  \\n ☐ not made in the course or furtherance of an enterpr ise that the vendor carries on (section 9 -5(b))  \\n ☐ by a vendor who is neither registered nor required to be registered for GST (section 9 -5(d))  \\n ☐ GST-free because the sale is the supply of a going concern under section 38 -325 \\n ☐ GST-free because the sale is subdivided farm land or farm land supplied for  farming under Subdivision 38 -O \\n ☐ input taxed because the sale is of eligible residential premises (sections 40 -65, 40 -75(2) and 195 -1) \\n \\nPurchaser must make a  GSTRW payment   ☐ NO  ☐ yes (if yes, vendor must provide  \\n(GST residential withholding payment)    further details)  \\n If the further details below are not fully completed at the \\ncontract date, the vendor must provide all these details in a \\nseparate notice at least 7  days  before  the date for completion . \\n \\nGSTRW payment  (GST residential withholding payment) – further details  \\nFrequently the supplier will be the vendor. However, sometimes further information will be required as to which  \\nentity is liable for GST, for example, if the supplier is a partnership, a trust, part of a GST group or a participant  \\nin a GST joint venture.  \\nSupplier’s name:   \\nSupplier’s ABN:   \\nSupplier ’s GST branch address  (if applicable) :       \\nSupplier ’s business address :  \\nSupplier ’s representative :  \\nSupplier’s contact phone number:   \\nSupplier’s proportion of GSTRW payment :  \\n If more than one supplier, provide the above details for each supplier.  \\nAmount purchaser must pay – price multiplied by the GSTRW rate  (residential withholding rate ):   \\nAmount must be paid:   ☐AT COMPLETION   ☐ at another time  (specify) :       \\nIs any of the consideration not expressed as an amount in money?   ☐ NO ☐yes \\n If “yes”, the GST inclusive market value of the non -monetary consideration:  $      \\nOther details (including those required by regulation  or the ATO forms ):',\n",
              " '4                                                                     Land – 2022 Edition  \\nBREACH OF COPYRIGHT MAY RESULT IN LEGAL ACTION  List of Documents  \\nGeneral  \\n\\uf0fe  1 property certificate for the land  \\n\\uf0fe  2 plan of the land  \\n☐  3 unregistered plan of the land  \\n☐  4 plan of land to be subdivided  \\n☐  5 document to be lodged with a relevant plan  \\n\\uf0fe  6 section 1 0.7(2) planning  certificate under  \\n Environmental Planning and Assessment Act  \\n 1979  \\n☐  7 additional  information included in that certificate  \\n under section 10.7(5)  \\n\\uf0fe  8 sewerage  infrastructure location diagram   \\n (service  location diagram ) \\n\\uf0fe  9 sewer  lines location diagram (sewerage  service  \\n diagram)  \\n☐ 10 document that created or may have created an  \\neasement, profit à prendre, restriction on use or \\npositive covenant disclosed in this contract  \\n☐ 11 planning agreement  \\n☐ 12 section 88G certificate (positive covenant)  \\n☐ 13 survey report  \\n☐ 14 building information certificate or building  \\n certificate given under legislation  \\n☐ 15 occupation certificate  \\n☐ 16  lease (with every relevant memorandum or  \\n variation)  \\n☐ 17 other document relevant to tenancies  \\n☐ 18 licence benefiting the land  \\n☐ 19 old system document  \\n☐ 20 Crown purchase statement of account  \\n☐ 21 building management statement  \\n\\uf0fe 22 form of requisitions  \\n☐ 23 clearance certificate  \\n☐ 24 land tax certificate  \\nHome Building Act 1989  \\n☐ 25 insurance certificate  \\n☐ 26 brochure or warning  \\n☐ 27 evidence of alternative indemnity cover  \\nSwimming Pools Act 1992  \\n☐ 28 certificate of compliance  \\n☐ 29 evidence of registration  \\n☐ 30 relevant occupation certificate  \\n☐ 31 certificate of non -compliance  \\n☐ 32 detailed reasons of non -compliance  \\n Strata or community title (clause 23 of the contract ) \\n\\uf0fe 33 property certificate for strata common property  \\n\\uf0fe 34 plan creating strata common property  \\n\\uf0fe 35 strata by -laws \\n☐ 36 strata development contract or statement  \\n☐ 37 strata management statement  \\n☐ 38 strata renewal proposal  \\n☐ 39 strata renewal plan  \\n☐ 40 leasehol d strata - lease of lot and common  \\n property  \\n☐ 41 property certificate for neighbourhood property  \\n☐ 42 plan creating neighbourhood property  \\n☐ 43 neighbourhood development contract  \\n☐ 44 neighbourhood management statement  \\n☐ 45 property certificate for precinct property  \\n☐ 46 plan creating precinct property  \\n☐ 47 precinct development contract  \\n☐ 48 precinct management statement  \\n☐ 49 property certificate for community property  \\n☐ 50 plan creating community property  \\n☐ 51 community development contract  \\n☐ 52 community management statement  \\n☐ 53 document disclosing a change of by -laws \\n☐ 54 document disclosing a change in a development  \\n or management contract or statement  \\n☐ 55 document disclosing a change in boundaries  \\n☐ 56 information certificate under Strata Schemes  \\n Management Act 2015  \\n☐ 57 information certificate under Community Land  \\n Management Act 1989 \\n☐ 58 disclosure statement - off the plan contract  \\n☐ 59 other document relevant to off  the plan contract  \\nOther  \\n☐ 60       \\n \\nHOLDER OF STRATA OR COMMUNIT Y TITLE RECORDS – Name, address, email address and telephone \\nnumber  \\nStrata Sense  \\nSuite 903 418a Elizabeth St reet \\nSurry Hills NSW 2010  \\ninfo@stratasense.com.au']"
            ]
          },
          "metadata": {},
          "execution_count": 59
        }
      ]
    },
    {
      "cell_type": "code",
      "source": [
        "st = \"\"\n",
        "for i in texts:\n",
        "  st += i"
      ],
      "metadata": {
        "id": "5vujkVTRvL6n"
      },
      "execution_count": null,
      "outputs": []
    },
    {
      "cell_type": "code",
      "source": [
        "st"
      ],
      "metadata": {
        "colab": {
          "base_uri": "https://localhost:8080/",
          "height": 122
        },
        "id": "3QvPRJ08wsM8",
        "outputId": "5ccc4724-1014-4cc4-b77d-3f8d37e38c9a"
      },
      "execution_count": null,
      "outputs": [
        {
          "output_type": "execute_result",
          "data": {
            "text/plain": [
              "'© 2022 The Law Society of New South Wales ACN 000 000 699 and The Real Estate Institute of New South Wales ACN 000 012 457  \\nYou can prepare your own version of pages 1 - 4 of this contract. Except as permitted under the Copyright Act 1968 (Cth) or consented to by the \\ncopyright owners (including by way of guidelines issued from time to time), no oth er part of this contract may be reproduced without the specific written \\npermission of The Law Society of New South Wales and The Real Estate Institute of New South Wales  \\n \\nBREACH OF COPYRIGHT MAY RESULT IN LEGAL ACTION  \\n Contract for the sale and purchase of land 2022 edition  \\nTERM  MEANING OF TERM  NSW D AN:       \\nvendor’s agent  Bondi Realty  \\nShop 4, 350 Oxford Street  \\nBondi Junction NSW 2022   Phone: 0418 608 752  \\n Email: marthan@bondirealty.com.au  \\n Ref: Martha Nissirios  \\nco-agent    \\nvendor  Russell David Schnaid and Caley Leanne Schnaid  \\n \\nvendor’s s olicitor  Lazarus Legal Group Pty Ltd  \\nSuite 205, Level 2, 55 Grafton Street, BONDI \\nJUNCTION NSW 2022  \\n Phone:  02 8644 6000  \\nEmail:  barry@lazaruslegal.com.au  \\nFax: 02 8644 6050  \\nRef: BNL:PL:230203  \\ndate for completion  42nd day after the contract date   (clause 15)  \\nland (address,  \\nplan details and  \\ntitle reference)  207/568 Oxford Street, Bondi Junction, New South Wales 2022  \\nRegistered Plan: Lot 14 Plan SP 103144  \\nFolio Identifier 14/SP103144  \\n    \\uf0fe VACANT POSSESSION       ☐ subject to existing tenancies  \\nimprovements  ☐ HOUSE  ☐garage  ☐carport  \\uf0fe home unit  \\uf0fecarspace  \\uf0festorage space  \\n☐ none  ☐other:       \\nattached copies  ☐documents in the List of Documents as marked or as numbered:        \\n ☐other documents:       \\nA real estate agent is permitted by legislation  to fill up the items in this box in a sale of residential property.  \\ninclusions  ☐ air conditioning  ☐ clothes line  \\uf0fe fixed floor coverings  \\uf0fe range hood  \\n  \\uf0fe blinds  ☐ curtains  ☐ insect screens   ☐ solar panels  \\n  \\uf0fe built-in wardrobes  \\uf0fe dishwasher  \\uf0fe light fittings  \\uf0fe stove  \\n☐ ceiling fans  ☐ EV charger  ☐ pool equipment  ☐ TV antenna  \\n  ☐ other:        \\nexclusions   \\npurchaser   \\n \\npurchaser’s solicitor    \\nprice  \\ndeposit  \\nbalance  $1,000,000.00  \\n$100,000.00   (10% of the price, unless otherwise stated)  \\n$900,000.00  \\ncontract date        (if not stated, the date this contract was made)  \\n \\n  Where there is more than one purchaser  ☐ JOINT TENANTS    \\n  ☐ tenants in common ☐ in unequal shares , specif y:       \\nGST AMOUNT  (optional)   The price includes  GST of:  $  \\n    \\n   buyer’s agent          \\n \\n \\nNote:   Clause 20.15 provides “Where this contract provides for choices, a choice in BLOCK CAPITALS applies \\nunless a different choice is marked. ”2                                                               Land – 2022 Edition  \\nBREACH OF COPYRIGHT MAY RESULT IN LEGAL ACTION  \\n  \\n \\n \\nSIGNING PAGE  \\nVENDOR  PURCHASER  \\nSigned  by  \\n \\n_____________________________  \\nVendor  \\n \\n \\n_____________________________  \\nVendor  \\n \\n \\n Signed  by  \\n \\n_____________________________  \\nPurchaser  \\n \\n \\n_____________________________  \\nPurchaser  \\n \\n \\n \\nVENDOR (COMPANY)  PURCHASER (COMPANY)  \\nSigned  by __________________________  \\nin accordance with s127(1) of the Corporations Act 2001 by the \\nauthorised person(s) whose signature(s) appear(s) below:  \\n Signed  by __________________________  \\nin accordance with s127(1) of the Corporations Act 2001 by the \\nauthorised person(s) whose signature(s) appear(s) below:  \\n__________________________  \\nSignature of authorised person  \\n__________________________  \\nName of authorised person  \\n__________________________  \\nOffice held  \\n __________________________  \\nSignature of authorised person  \\n__________________________  \\nName of authorised p erson  \\n__________________________  \\nOffice held  __________________________  \\nSignature of authorised person  \\n__________________________  \\nName of authorised person  \\n__________________________  \\nOffice held  ________________________  \\nSignature of authorised person  \\n________________________  \\nName of authorised person  \\n________________________  \\nOffice held3                                                                     Land – 2022 Edition  \\nBREACH OF COPYRIGHT MAY RESULT IN LEGAL ACTION  Choices  \\nVendor agrees to accept a deposit -bond  \\uf0feNO ☐yes \\nNominated Electronic Lodgment Network (ELN)  (clause 4): PEXA   \\nManual  transaction  (clause 30)  \\uf0feNO ☐yes \\n (if yes, vendor must provide further details, including \\nany applicable  exception , in the space below ): \\n      \\n \\nTax information (the parties  promise this is correct as far as each party  is aware)  \\nLand tax  is adjustable  ☐NO ☐yes \\nGST: Taxable supply  ☐NO  ☐yes in full  ☐yes to an extent  \\nMargin scheme will be used in making the taxable supply  ☐NO ☐yes  \\nThis sale is not a taxable supply because (one or more of the following may apply) the sale is:  \\n ☐ not made in the course or furtherance of an enterpr ise that the vendor carries on (section 9 -5(b))  \\n ☐ by a vendor who is neither registered nor required to be registered for GST (section 9 -5(d))  \\n ☐ GST-free because the sale is the supply of a going concern under section 38 -325 \\n ☐ GST-free because the sale is subdivided farm land or farm land supplied for  farming under Subdivision 38 -O \\n ☐ input taxed because the sale is of eligible residential premises (sections 40 -65, 40 -75(2) and 195 -1) \\n \\nPurchaser must make a  GSTRW payment   ☐ NO  ☐ yes (if yes, vendor must provide  \\n(GST residential withholding payment)    further details)  \\n If the further details below are not fully completed at the \\ncontract date, the vendor must provide all these details in a \\nseparate notice at least 7  days  before  the date for completion . \\n \\nGSTRW payment  (GST residential withholding payment) – further details  \\nFrequently the supplier will be the vendor. However, sometimes further information will be required as to which  \\nentity is liable for GST, for example, if the supplier is a partnership, a trust, part of a GST group or a participant  \\nin a GST joint venture.  \\nSupplier’s name:   \\nSupplier’s ABN:   \\nSupplier ’s GST branch address  (if applicable) :       \\nSupplier ’s business address :  \\nSupplier ’s representative :  \\nSupplier’s contact phone number:   \\nSupplier’s proportion of GSTRW payment :  \\n If more than one supplier, provide the above details for each supplier.  \\nAmount purchaser must pay – price multiplied by the GSTRW rate  (residential withholding rate ):   \\nAmount must be paid:   ☐AT COMPLETION   ☐ at another time  (specify) :       \\nIs any of the consideration not expressed as an amount in money?   ☐ NO ☐yes \\n If “yes”, the GST inclusive market value of the non -monetary consideration:  $      \\nOther details (including those required by regulation  or the ATO forms ):4                                                                     Land – 2022 Edition  \\nBREACH OF COPYRIGHT MAY RESULT IN LEGAL ACTION  List of Documents  \\nGeneral  \\n\\uf0fe  1 property certificate for the land  \\n\\uf0fe  2 plan of the land  \\n☐  3 unregistered plan of the land  \\n☐  4 plan of land to be subdivided  \\n☐  5 document to be lodged with a relevant plan  \\n\\uf0fe  6 section 1 0.7(2) planning  certificate under  \\n Environmental Planning and Assessment Act  \\n 1979  \\n☐  7 additional  information included in that certificate  \\n under section 10.7(5)  \\n\\uf0fe  8 sewerage  infrastructure location diagram   \\n (service  location diagram ) \\n\\uf0fe  9 sewer  lines location diagram (sewerage  service  \\n diagram)  \\n☐ 10 document that created or may have created an  \\neasement, profit à prendre, restriction on use or \\npositive covenant disclosed in this contract  \\n☐ 11 planning agreement  \\n☐ 12 section 88G certificate (positive covenant)  \\n☐ 13 survey report  \\n☐ 14 building information certificate or building  \\n certificate given under legislation  \\n☐ 15 occupation certificate  \\n☐ 16  lease (with every relevant memorandum or  \\n variation)  \\n☐ 17 other document relevant to tenancies  \\n☐ 18 licence benefiting the land  \\n☐ 19 old system document  \\n☐ 20 Crown purchase statement of account  \\n☐ 21 building management statement  \\n\\uf0fe 22 form of requisitions  \\n☐ 23 clearance certificate  \\n☐ 24 land tax certificate  \\nHome Building Act 1989  \\n☐ 25 insurance certificate  \\n☐ 26 brochure or warning  \\n☐ 27 evidence of alternative indemnity cover  \\nSwimming Pools Act 1992  \\n☐ 28 certificate of compliance  \\n☐ 29 evidence of registration  \\n☐ 30 relevant occupation certificate  \\n☐ 31 certificate of non -compliance  \\n☐ 32 detailed reasons of non -compliance  \\n Strata or community title (clause 23 of the contract ) \\n\\uf0fe 33 property certificate for strata common property  \\n\\uf0fe 34 plan creating strata common property  \\n\\uf0fe 35 strata by -laws \\n☐ 36 strata development contract or statement  \\n☐ 37 strata management statement  \\n☐ 38 strata renewal proposal  \\n☐ 39 strata renewal plan  \\n☐ 40 leasehol d strata - lease of lot and common  \\n property  \\n☐ 41 property certificate for neighbourhood property  \\n☐ 42 plan creating neighbourhood property  \\n☐ 43 neighbourhood development contract  \\n☐ 44 neighbourhood management statement  \\n☐ 45 property certificate for precinct property  \\n☐ 46 plan creating precinct property  \\n☐ 47 precinct development contract  \\n☐ 48 precinct management statement  \\n☐ 49 property certificate for community property  \\n☐ 50 plan creating community property  \\n☐ 51 community development contract  \\n☐ 52 community management statement  \\n☐ 53 document disclosing a change of by -laws \\n☐ 54 document disclosing a change in a development  \\n or management contract or statement  \\n☐ 55 document disclosing a change in boundaries  \\n☐ 56 information certificate under Strata Schemes  \\n Management Act 2015  \\n☐ 57 information certificate under Community Land  \\n Management Act 1989 \\n☐ 58 disclosure statement - off the plan contract  \\n☐ 59 other document relevant to off  the plan contract  \\nOther  \\n☐ 60       \\n \\nHOLDER OF STRATA OR COMMUNIT Y TITLE RECORDS – Name, address, email address and telephone \\nnumber  \\nStrata Sense  \\nSuite 903 418a Elizabeth St reet \\nSurry Hills NSW 2010  \\ninfo@stratasense.com.au'"
            ],
            "application/vnd.google.colaboratory.intrinsic+json": {
              "type": "string"
            }
          },
          "metadata": {},
          "execution_count": 61
        }
      ]
    },
    {
      "cell_type": "code",
      "source": [
        "len(texts[0]) == len(st)"
      ],
      "metadata": {
        "colab": {
          "base_uri": "https://localhost:8080/"
        },
        "id": "sgsVgKtXw1Mb",
        "outputId": "1efe6927-9a7e-4108-d751-12d5f91fd5d8"
      },
      "execution_count": null,
      "outputs": [
        {
          "output_type": "execute_result",
          "data": {
            "text/plain": [
              "False"
            ]
          },
          "metadata": {},
          "execution_count": 62
        }
      ]
    },
    {
      "cell_type": "code",
      "source": [
        "sents = st.split(\"\\n\")"
      ],
      "metadata": {
        "id": "0JP5qxy2w4GT"
      },
      "execution_count": null,
      "outputs": []
    },
    {
      "cell_type": "code",
      "source": [
        "sents"
      ],
      "metadata": {
        "colab": {
          "base_uri": "https://localhost:8080/"
        },
        "id": "K3KFQP0Aw72D",
        "outputId": "7be32a77-2bff-4243-9cf2-e57b5a87ff4e"
      },
      "execution_count": null,
      "outputs": [
        {
          "output_type": "execute_result",
          "data": {
            "text/plain": [
              "['© 2022 The Law Society of New South Wales ACN 000 000 699 and The Real Estate Institute of New South Wales ACN 000 012 457  ',\n",
              " 'You can prepare your own version of pages 1 - 4 of this contract. Except as permitted under the Copyright Act 1968 (Cth) or consented to by the ',\n",
              " 'copyright owners (including by way of guidelines issued from time to time), no oth er part of this contract may be reproduced without the specific written ',\n",
              " 'permission of The Law Society of New South Wales and The Real Estate Institute of New South Wales  ',\n",
              " ' ',\n",
              " 'BREACH OF COPYRIGHT MAY RESULT IN LEGAL ACTION  ',\n",
              " ' Contract for the sale and purchase of land 2022 edition  ',\n",
              " 'TERM  MEANING OF TERM  NSW D AN:       ',\n",
              " 'vendor’s agent  Bondi Realty  ',\n",
              " 'Shop 4, 350 Oxford Street  ',\n",
              " 'Bondi Junction NSW 2022   Phone: 0418 608 752  ',\n",
              " ' Email: marthan@bondirealty.com.au  ',\n",
              " ' Ref: Martha Nissirios  ',\n",
              " 'co-agent    ',\n",
              " 'vendor  Russell David Schnaid and Caley Leanne Schnaid  ',\n",
              " ' ',\n",
              " 'vendor’s s olicitor  Lazarus Legal Group Pty Ltd  ',\n",
              " 'Suite 205, Level 2, 55 Grafton Street, BONDI ',\n",
              " 'JUNCTION NSW 2022  ',\n",
              " ' Phone:  02 8644 6000  ',\n",
              " 'Email:  barry@lazaruslegal.com.au  ',\n",
              " 'Fax: 02 8644 6050  ',\n",
              " 'Ref: BNL:PL:230203  ',\n",
              " 'date for completion  42nd day after the contract date   (clause 15)  ',\n",
              " 'land (address,  ',\n",
              " 'plan details and  ',\n",
              " 'title reference)  207/568 Oxford Street, Bondi Junction, New South Wales 2022  ',\n",
              " 'Registered Plan: Lot 14 Plan SP 103144  ',\n",
              " 'Folio Identifier 14/SP103144  ',\n",
              " '    \\uf0fe VACANT POSSESSION       ☐ subject to existing tenancies  ',\n",
              " 'improvements  ☐ HOUSE  ☐garage  ☐carport  \\uf0fe home unit  \\uf0fecarspace  \\uf0festorage space  ',\n",
              " '☐ none  ☐other:       ',\n",
              " 'attached copies  ☐documents in the List of Documents as marked or as numbered:        ',\n",
              " ' ☐other documents:       ',\n",
              " 'A real estate agent is permitted by legislation  to fill up the items in this box in a sale of residential property.  ',\n",
              " 'inclusions  ☐ air conditioning  ☐ clothes line  \\uf0fe fixed floor coverings  \\uf0fe range hood  ',\n",
              " '  \\uf0fe blinds  ☐ curtains  ☐ insect screens   ☐ solar panels  ',\n",
              " '  \\uf0fe built-in wardrobes  \\uf0fe dishwasher  \\uf0fe light fittings  \\uf0fe stove  ',\n",
              " '☐ ceiling fans  ☐ EV charger  ☐ pool equipment  ☐ TV antenna  ',\n",
              " '  ☐ other:        ',\n",
              " 'exclusions   ',\n",
              " 'purchaser   ',\n",
              " ' ',\n",
              " 'purchaser’s solicitor    ',\n",
              " 'price  ',\n",
              " 'deposit  ',\n",
              " 'balance  $1,000,000.00  ',\n",
              " '$100,000.00   (10% of the price, unless otherwise stated)  ',\n",
              " '$900,000.00  ',\n",
              " 'contract date        (if not stated, the date this contract was made)  ',\n",
              " ' ',\n",
              " '  Where there is more than one purchaser  ☐ JOINT TENANTS    ',\n",
              " '  ☐ tenants in common ☐ in unequal shares , specif y:       ',\n",
              " 'GST AMOUNT  (optional)   The price includes  GST of:  $  ',\n",
              " '    ',\n",
              " '   buyer’s agent          ',\n",
              " ' ',\n",
              " ' ',\n",
              " 'Note:   Clause 20.15 provides “Where this contract provides for choices, a choice in BLOCK CAPITALS applies ',\n",
              " 'unless a different choice is marked. ”2                                                               Land – 2022 Edition  ',\n",
              " 'BREACH OF COPYRIGHT MAY RESULT IN LEGAL ACTION  ',\n",
              " '  ',\n",
              " ' ',\n",
              " ' ',\n",
              " 'SIGNING PAGE  ',\n",
              " 'VENDOR  PURCHASER  ',\n",
              " 'Signed  by  ',\n",
              " ' ',\n",
              " '_____________________________  ',\n",
              " 'Vendor  ',\n",
              " ' ',\n",
              " ' ',\n",
              " '_____________________________  ',\n",
              " 'Vendor  ',\n",
              " ' ',\n",
              " ' ',\n",
              " ' Signed  by  ',\n",
              " ' ',\n",
              " '_____________________________  ',\n",
              " 'Purchaser  ',\n",
              " ' ',\n",
              " ' ',\n",
              " '_____________________________  ',\n",
              " 'Purchaser  ',\n",
              " ' ',\n",
              " ' ',\n",
              " ' ',\n",
              " 'VENDOR (COMPANY)  PURCHASER (COMPANY)  ',\n",
              " 'Signed  by __________________________  ',\n",
              " 'in accordance with s127(1) of the Corporations Act 2001 by the ',\n",
              " 'authorised person(s) whose signature(s) appear(s) below:  ',\n",
              " ' Signed  by __________________________  ',\n",
              " 'in accordance with s127(1) of the Corporations Act 2001 by the ',\n",
              " 'authorised person(s) whose signature(s) appear(s) below:  ',\n",
              " '__________________________  ',\n",
              " 'Signature of authorised person  ',\n",
              " '__________________________  ',\n",
              " 'Name of authorised person  ',\n",
              " '__________________________  ',\n",
              " 'Office held  ',\n",
              " ' __________________________  ',\n",
              " 'Signature of authorised person  ',\n",
              " '__________________________  ',\n",
              " 'Name of authorised p erson  ',\n",
              " '__________________________  ',\n",
              " 'Office held  __________________________  ',\n",
              " 'Signature of authorised person  ',\n",
              " '__________________________  ',\n",
              " 'Name of authorised person  ',\n",
              " '__________________________  ',\n",
              " 'Office held  ________________________  ',\n",
              " 'Signature of authorised person  ',\n",
              " '________________________  ',\n",
              " 'Name of authorised person  ',\n",
              " '________________________  ',\n",
              " 'Office held3                                                                     Land – 2022 Edition  ',\n",
              " 'BREACH OF COPYRIGHT MAY RESULT IN LEGAL ACTION  Choices  ',\n",
              " 'Vendor agrees to accept a deposit -bond  \\uf0feNO ☐yes ',\n",
              " 'Nominated Electronic Lodgment Network (ELN)  (clause 4): PEXA   ',\n",
              " 'Manual  transaction  (clause 30)  \\uf0feNO ☐yes ',\n",
              " ' (if yes, vendor must provide further details, including ',\n",
              " 'any applicable  exception , in the space below ): ',\n",
              " '      ',\n",
              " ' ',\n",
              " 'Tax information (the parties  promise this is correct as far as each party  is aware)  ',\n",
              " 'Land tax  is adjustable  ☐NO ☐yes ',\n",
              " 'GST: Taxable supply  ☐NO  ☐yes in full  ☐yes to an extent  ',\n",
              " 'Margin scheme will be used in making the taxable supply  ☐NO ☐yes  ',\n",
              " 'This sale is not a taxable supply because (one or more of the following may apply) the sale is:  ',\n",
              " ' ☐ not made in the course or furtherance of an enterpr ise that the vendor carries on (section 9 -5(b))  ',\n",
              " ' ☐ by a vendor who is neither registered nor required to be registered for GST (section 9 -5(d))  ',\n",
              " ' ☐ GST-free because the sale is the supply of a going concern under section 38 -325 ',\n",
              " ' ☐ GST-free because the sale is subdivided farm land or farm land supplied for  farming under Subdivision 38 -O ',\n",
              " ' ☐ input taxed because the sale is of eligible residential premises (sections 40 -65, 40 -75(2) and 195 -1) ',\n",
              " ' ',\n",
              " 'Purchaser must make a  GSTRW payment   ☐ NO  ☐ yes (if yes, vendor must provide  ',\n",
              " '(GST residential withholding payment)    further details)  ',\n",
              " ' If the further details below are not fully completed at the ',\n",
              " 'contract date, the vendor must provide all these details in a ',\n",
              " 'separate notice at least 7  days  before  the date for completion . ',\n",
              " ' ',\n",
              " 'GSTRW payment  (GST residential withholding payment) – further details  ',\n",
              " 'Frequently the supplier will be the vendor. However, sometimes further information will be required as to which  ',\n",
              " 'entity is liable for GST, for example, if the supplier is a partnership, a trust, part of a GST group or a participant  ',\n",
              " 'in a GST joint venture.  ',\n",
              " 'Supplier’s name:   ',\n",
              " 'Supplier’s ABN:   ',\n",
              " 'Supplier ’s GST branch address  (if applicable) :       ',\n",
              " 'Supplier ’s business address :  ',\n",
              " 'Supplier ’s representative :  ',\n",
              " 'Supplier’s contact phone number:   ',\n",
              " 'Supplier’s proportion of GSTRW payment :  ',\n",
              " ' If more than one supplier, provide the above details for each supplier.  ',\n",
              " 'Amount purchaser must pay – price multiplied by the GSTRW rate  (residential withholding rate ):   ',\n",
              " 'Amount must be paid:   ☐AT COMPLETION   ☐ at another time  (specify) :       ',\n",
              " 'Is any of the consideration not expressed as an amount in money?   ☐ NO ☐yes ',\n",
              " ' If “yes”, the GST inclusive market value of the non -monetary consideration:  $      ',\n",
              " 'Other details (including those required by regulation  or the ATO forms ):4                                                                     Land – 2022 Edition  ',\n",
              " 'BREACH OF COPYRIGHT MAY RESULT IN LEGAL ACTION  List of Documents  ',\n",
              " 'General  ',\n",
              " '\\uf0fe  1 property certificate for the land  ',\n",
              " '\\uf0fe  2 plan of the land  ',\n",
              " '☐  3 unregistered plan of the land  ',\n",
              " '☐  4 plan of land to be subdivided  ',\n",
              " '☐  5 document to be lodged with a relevant plan  ',\n",
              " '\\uf0fe  6 section 1 0.7(2) planning  certificate under  ',\n",
              " ' Environmental Planning and Assessment Act  ',\n",
              " ' 1979  ',\n",
              " '☐  7 additional  information included in that certificate  ',\n",
              " ' under section 10.7(5)  ',\n",
              " '\\uf0fe  8 sewerage  infrastructure location diagram   ',\n",
              " ' (service  location diagram ) ',\n",
              " '\\uf0fe  9 sewer  lines location diagram (sewerage  service  ',\n",
              " ' diagram)  ',\n",
              " '☐ 10 document that created or may have created an  ',\n",
              " 'easement, profit à prendre, restriction on use or ',\n",
              " 'positive covenant disclosed in this contract  ',\n",
              " '☐ 11 planning agreement  ',\n",
              " '☐ 12 section 88G certificate (positive covenant)  ',\n",
              " '☐ 13 survey report  ',\n",
              " '☐ 14 building information certificate or building  ',\n",
              " ' certificate given under legislation  ',\n",
              " '☐ 15 occupation certificate  ',\n",
              " '☐ 16  lease (with every relevant memorandum or  ',\n",
              " ' variation)  ',\n",
              " '☐ 17 other document relevant to tenancies  ',\n",
              " '☐ 18 licence benefiting the land  ',\n",
              " '☐ 19 old system document  ',\n",
              " '☐ 20 Crown purchase statement of account  ',\n",
              " '☐ 21 building management statement  ',\n",
              " '\\uf0fe 22 form of requisitions  ',\n",
              " '☐ 23 clearance certificate  ',\n",
              " '☐ 24 land tax certificate  ',\n",
              " 'Home Building Act 1989  ',\n",
              " '☐ 25 insurance certificate  ',\n",
              " '☐ 26 brochure or warning  ',\n",
              " '☐ 27 evidence of alternative indemnity cover  ',\n",
              " 'Swimming Pools Act 1992  ',\n",
              " '☐ 28 certificate of compliance  ',\n",
              " '☐ 29 evidence of registration  ',\n",
              " '☐ 30 relevant occupation certificate  ',\n",
              " '☐ 31 certificate of non -compliance  ',\n",
              " '☐ 32 detailed reasons of non -compliance  ',\n",
              " ' Strata or community title (clause 23 of the contract ) ',\n",
              " '\\uf0fe 33 property certificate for strata common property  ',\n",
              " '\\uf0fe 34 plan creating strata common property  ',\n",
              " '\\uf0fe 35 strata by -laws ',\n",
              " '☐ 36 strata development contract or statement  ',\n",
              " '☐ 37 strata management statement  ',\n",
              " '☐ 38 strata renewal proposal  ',\n",
              " '☐ 39 strata renewal plan  ',\n",
              " '☐ 40 leasehol d strata - lease of lot and common  ',\n",
              " ' property  ',\n",
              " '☐ 41 property certificate for neighbourhood property  ',\n",
              " '☐ 42 plan creating neighbourhood property  ',\n",
              " '☐ 43 neighbourhood development contract  ',\n",
              " '☐ 44 neighbourhood management statement  ',\n",
              " '☐ 45 property certificate for precinct property  ',\n",
              " '☐ 46 plan creating precinct property  ',\n",
              " '☐ 47 precinct development contract  ',\n",
              " '☐ 48 precinct management statement  ',\n",
              " '☐ 49 property certificate for community property  ',\n",
              " '☐ 50 plan creating community property  ',\n",
              " '☐ 51 community development contract  ',\n",
              " '☐ 52 community management statement  ',\n",
              " '☐ 53 document disclosing a change of by -laws ',\n",
              " '☐ 54 document disclosing a change in a development  ',\n",
              " ' or management contract or statement  ',\n",
              " '☐ 55 document disclosing a change in boundaries  ',\n",
              " '☐ 56 information certificate under Strata Schemes  ',\n",
              " ' Management Act 2015  ',\n",
              " '☐ 57 information certificate under Community Land  ',\n",
              " ' Management Act 1989 ',\n",
              " '☐ 58 disclosure statement - off the plan contract  ',\n",
              " '☐ 59 other document relevant to off  the plan contract  ',\n",
              " 'Other  ',\n",
              " '☐ 60       ',\n",
              " ' ',\n",
              " 'HOLDER OF STRATA OR COMMUNIT Y TITLE RECORDS – Name, address, email address and telephone ',\n",
              " 'number  ',\n",
              " 'Strata Sense  ',\n",
              " 'Suite 903 418a Elizabeth St reet ',\n",
              " 'Surry Hills NSW 2010  ',\n",
              " 'info@stratasense.com.au']"
            ]
          },
          "metadata": {},
          "execution_count": 64
        }
      ]
    },
    {
      "cell_type": "code",
      "source": [
        "keys = ['vendor  ','date for completion', 'land (address', 'plan details and', 'VACANT POSSESSION','purchaser’s solicitor    ','improvements','inclusions ','exclusions','Land tax']\n"
      ],
      "metadata": {
        "id": "k1QgZayyxfPE"
      },
      "execution_count": null,
      "outputs": []
    },
    {
      "cell_type": "code",
      "source": [
        "dc={}\n",
        "for item in keys:\n",
        "  for i,x in enumerate(sents):\n",
        "    if item in x:\n",
        "      dc[item] = [sents[i], sents[i+1], sents[i+2], sents[i+3],sents[i+4]]"
      ],
      "metadata": {
        "id": "l-zWvrme59jF"
      },
      "execution_count": null,
      "outputs": []
    },
    {
      "cell_type": "code",
      "source": [
        "dc"
      ],
      "metadata": {
        "colab": {
          "base_uri": "https://localhost:8080/"
        },
        "id": "DJnnMjUk7lC_",
        "outputId": "669f025c-611d-43da-b98c-f41b8474e74a"
      },
      "execution_count": null,
      "outputs": [
        {
          "output_type": "execute_result",
          "data": {
            "text/plain": [
              "{'vendor  ': ['vendor  Russell David Schnaid and Caley Leanne Schnaid  ',\n",
              "  ' ',\n",
              "  'vendor’s s olicitor  Lazarus Legal Group Pty Ltd  ',\n",
              "  'Suite 205, Level 2, 55 Grafton Street, BONDI ',\n",
              "  'JUNCTION NSW 2022  '],\n",
              " 'date for completion': ['separate notice at least 7  days  before  the date for completion . ',\n",
              "  ' ',\n",
              "  'GSTRW payment  (GST residential withholding payment) – further details  ',\n",
              "  'Frequently the supplier will be the vendor. However, sometimes further information will be required as to which  ',\n",
              "  'entity is liable for GST, for example, if the supplier is a partnership, a trust, part of a GST group or a participant  '],\n",
              " 'land (address': ['land (address,  ',\n",
              "  'plan details and  ',\n",
              "  'title reference)  207/568 Oxford Street, Bondi Junction, New South Wales 2022  ',\n",
              "  'Registered Plan: Lot 14 Plan SP 103144  ',\n",
              "  'Folio Identifier 14/SP103144  '],\n",
              " 'plan details and': ['plan details and  ',\n",
              "  'title reference)  207/568 Oxford Street, Bondi Junction, New South Wales 2022  ',\n",
              "  'Registered Plan: Lot 14 Plan SP 103144  ',\n",
              "  'Folio Identifier 14/SP103144  ',\n",
              "  '    \\uf0fe VACANT POSSESSION       ☐ subject to existing tenancies  '],\n",
              " 'VACANT POSSESSION': ['    \\uf0fe VACANT POSSESSION       ☐ subject to existing tenancies  ',\n",
              "  'improvements  ☐ HOUSE  ☐garage  ☐carport  \\uf0fe home unit  \\uf0fecarspace  \\uf0festorage space  ',\n",
              "  '☐ none  ☐other:       ',\n",
              "  'attached copies  ☐documents in the List of Documents as marked or as numbered:        ',\n",
              "  ' ☐other documents:       '],\n",
              " 'purchaser’s solicitor    ': ['purchaser’s solicitor    ',\n",
              "  'price  ',\n",
              "  'deposit  ',\n",
              "  'balance  $1,000,000.00  ',\n",
              "  '$100,000.00   (10% of the price, unless otherwise stated)  '],\n",
              " 'improvements': ['improvements  ☐ HOUSE  ☐garage  ☐carport  \\uf0fe home unit  \\uf0fecarspace  \\uf0festorage space  ',\n",
              "  '☐ none  ☐other:       ',\n",
              "  'attached copies  ☐documents in the List of Documents as marked or as numbered:        ',\n",
              "  ' ☐other documents:       ',\n",
              "  'A real estate agent is permitted by legislation  to fill up the items in this box in a sale of residential property.  '],\n",
              " 'inclusions ': ['inclusions  ☐ air conditioning  ☐ clothes line  \\uf0fe fixed floor coverings  \\uf0fe range hood  ',\n",
              "  '  \\uf0fe blinds  ☐ curtains  ☐ insect screens   ☐ solar panels  ',\n",
              "  '  \\uf0fe built-in wardrobes  \\uf0fe dishwasher  \\uf0fe light fittings  \\uf0fe stove  ',\n",
              "  '☐ ceiling fans  ☐ EV charger  ☐ pool equipment  ☐ TV antenna  ',\n",
              "  '  ☐ other:        '],\n",
              " 'exclusions': ['exclusions   ',\n",
              "  'purchaser   ',\n",
              "  ' ',\n",
              "  'purchaser’s solicitor    ',\n",
              "  'price  '],\n",
              " 'Land tax': ['Land tax  is adjustable  ☐NO ☐yes ',\n",
              "  'GST: Taxable supply  ☐NO  ☐yes in full  ☐yes to an extent  ',\n",
              "  'Margin scheme will be used in making the taxable supply  ☐NO ☐yes  ',\n",
              "  'This sale is not a taxable supply because (one or more of the following may apply) the sale is:  ',\n",
              "  ' ☐ not made in the course or furtherance of an enterpr ise that the vendor carries on (section 9 -5(b))  ']}"
            ]
          },
          "metadata": {},
          "execution_count": 84
        }
      ]
    },
    {
      "cell_type": "code",
      "source": [
        "dc[keys[0]] = dc[keys[0]][0] #vendor's name\n",
        "dc[keys[1]] = dc[keys[1]][0] #date of completion\n"
      ],
      "metadata": {
        "id": "76j3-LAd7nXH"
      },
      "execution_count": null,
      "outputs": []
    },
    {
      "cell_type": "code",
      "source": [
        "dc"
      ],
      "metadata": {
        "colab": {
          "base_uri": "https://localhost:8080/"
        },
        "id": "l-n2XySR8m3x",
        "outputId": "d54b632a-763b-4a8c-86c4-d8a4e5b593b5"
      },
      "execution_count": null,
      "outputs": [
        {
          "output_type": "execute_result",
          "data": {
            "text/plain": [
              "{'vendor  ': 'vendor  Russell David Schnaid and Caley Leanne Schnaid  ',\n",
              " 'date for completion': 'separate notice at least 7  days  before  the date for completion . ',\n",
              " 'land (address': ['land (address,  ',\n",
              "  'plan details and  ',\n",
              "  'title reference)  207/568 Oxford Street, Bondi Junction, New South Wales 2022  ',\n",
              "  'Registered Plan: Lot 14 Plan SP 103144  ',\n",
              "  'Folio Identifier 14/SP103144  '],\n",
              " 'plan details and': ['plan details and  ',\n",
              "  'title reference)  207/568 Oxford Street, Bondi Junction, New South Wales 2022  ',\n",
              "  'Registered Plan: Lot 14 Plan SP 103144  ',\n",
              "  'Folio Identifier 14/SP103144  ',\n",
              "  '    \\uf0fe VACANT POSSESSION       ☐ subject to existing tenancies  '],\n",
              " 'VACANT POSSESSION': ['    \\uf0fe VACANT POSSESSION       ☐ subject to existing tenancies  ',\n",
              "  'improvements  ☐ HOUSE  ☐garage  ☐carport  \\uf0fe home unit  \\uf0fecarspace  \\uf0festorage space  ',\n",
              "  '☐ none  ☐other:       ',\n",
              "  'attached copies  ☐documents in the List of Documents as marked or as numbered:        ',\n",
              "  ' ☐other documents:       '],\n",
              " 'purchaser’s solicitor    ': ['purchaser’s solicitor    ',\n",
              "  'price  ',\n",
              "  'deposit  ',\n",
              "  'balance  $1,000,000.00  ',\n",
              "  '$100,000.00   (10% of the price, unless otherwise stated)  '],\n",
              " 'improvements': ['improvements  ☐ HOUSE  ☐garage  ☐carport  \\uf0fe home unit  \\uf0fecarspace  \\uf0festorage space  ',\n",
              "  '☐ none  ☐other:       ',\n",
              "  'attached copies  ☐documents in the List of Documents as marked or as numbered:        ',\n",
              "  ' ☐other documents:       ',\n",
              "  'A real estate agent is permitted by legislation  to fill up the items in this box in a sale of residential property.  '],\n",
              " 'inclusions ': ['inclusions  ☐ air conditioning  ☐ clothes line  \\uf0fe fixed floor coverings  \\uf0fe range hood  ',\n",
              "  '  \\uf0fe blinds  ☐ curtains  ☐ insect screens   ☐ solar panels  ',\n",
              "  '  \\uf0fe built-in wardrobes  \\uf0fe dishwasher  \\uf0fe light fittings  \\uf0fe stove  ',\n",
              "  '☐ ceiling fans  ☐ EV charger  ☐ pool equipment  ☐ TV antenna  ',\n",
              "  '  ☐ other:        '],\n",
              " 'exclusions': ['exclusions   ',\n",
              "  'purchaser   ',\n",
              "  ' ',\n",
              "  'purchaser’s solicitor    ',\n",
              "  'price  '],\n",
              " 'Land tax': ['Land tax  is adjustable  ☐NO ☐yes ',\n",
              "  'GST: Taxable supply  ☐NO  ☐yes in full  ☐yes to an extent  ',\n",
              "  'Margin scheme will be used in making the taxable supply  ☐NO ☐yes  ',\n",
              "  'This sale is not a taxable supply because (one or more of the following may apply) the sale is:  ',\n",
              "  ' ☐ not made in the course or furtherance of an enterpr ise that the vendor carries on (section 9 -5(b))  ']}"
            ]
          },
          "metadata": {},
          "execution_count": 86
        }
      ]
    },
    {
      "cell_type": "code",
      "source": [
        "dc[keys[0]] = dc[keys[0]][0] #vendor's name\n",
        "dc[keys[1]] = dc[keys[1]][0] #date of completion\n",
        "dc['VACANT POSSESSION'] = dc['VACANT POSSESSION'][:-2]"
      ],
      "metadata": {
        "id": "ZhDyksam8nMZ"
      },
      "execution_count": null,
      "outputs": []
    },
    {
      "cell_type": "code",
      "source": [
        "dc"
      ],
      "metadata": {
        "id": "T1wT8sY-9rO0"
      },
      "execution_count": null,
      "outputs": []
    },
    {
      "cell_type": "code",
      "source": [
        "dc[keys[0]] = dc[keys[0]][0] #vendor's name\n",
        "dc[keys[1]] = dc[keys[1]][0] #date of completion\n",
        "dc['VACANT POSSESSION'] = dc['VACANT POSSESSION'][:-2]\n",
        "dc[keys[5]] = dc[keys[5]][-2]"
      ],
      "metadata": {
        "id": "cjXQ9kEL9rlr"
      },
      "execution_count": null,
      "outputs": []
    },
    {
      "cell_type": "code",
      "source": [
        "dc"
      ],
      "metadata": {
        "id": "GRe60XtqBC55"
      },
      "execution_count": null,
      "outputs": []
    },
    {
      "cell_type": "code",
      "source": [
        "dc[keys[0]] = dc[keys[0]][0] #vendor's name\n",
        "dc[keys[1]] = dc[keys[1]][0] #date of completion\n",
        "dc['VACANT POSSESSION'] = dc['VACANT POSSESSION'][:-2]\n",
        "dc[keys[5]] = dc[keys[5]][-2]\n",
        "dc['improvements'] = dc['improvements'][0:2]"
      ],
      "metadata": {
        "id": "T_uScZ4eBDbZ"
      },
      "execution_count": null,
      "outputs": []
    },
    {
      "cell_type": "code",
      "source": [],
      "metadata": {
        "colab": {
          "base_uri": "https://localhost:8080/"
        },
        "id": "IcHUBypDBNQh",
        "outputId": "68c52688-b714-4383-91d1-d93134076578"
      },
      "execution_count": null,
      "outputs": [
        {
          "output_type": "execute_result",
          "data": {
            "text/plain": [
              "{'vendor  ': 'vendor  Russell David Schnaid and Caley Leanne Schnaid  ',\n",
              " 'date for completion': 'separate notice at least 7  days  before  the date for completion . ',\n",
              " 'land (address': ['land (address,  ',\n",
              "  'plan details and  ',\n",
              "  'title reference)  207/568 Oxford Street, Bondi Junction, New South Wales 2022  ',\n",
              "  'Registered Plan: Lot 14 Plan SP 103144  ',\n",
              "  'Folio Identifier 14/SP103144  '],\n",
              " 'plan details and': ['plan details and  ',\n",
              "  'title reference)  207/568 Oxford Street, Bondi Junction, New South Wales 2022  ',\n",
              "  'Registered Plan: Lot 14 Plan SP 103144  ',\n",
              "  'Folio Identifier 14/SP103144  ',\n",
              "  '    \\uf0fe VACANT POSSESSION       ☐ subject to existing tenancies  '],\n",
              " 'VACANT POSSESSION': ['    \\uf0fe VACANT POSSESSION       ☐ subject to existing tenancies  ',\n",
              "  'improvements  ☐ HOUSE  ☐garage  ☐carport  \\uf0fe home unit  \\uf0fecarspace  \\uf0festorage space  ',\n",
              "  '☐ none  ☐other:       '],\n",
              " 'purchaser’s solicitor    ': 'balance  $1,000,000.00  ',\n",
              " 'improvements': ['improvements  ☐ HOUSE  ☐garage  ☐carport  \\uf0fe home unit  \\uf0fecarspace  \\uf0festorage space  ',\n",
              "  '☐ none  ☐other:       '],\n",
              " 'inclusions ': ['inclusions  ☐ air conditioning  ☐ clothes line  \\uf0fe fixed floor coverings  \\uf0fe range hood  ',\n",
              "  '  \\uf0fe blinds  ☐ curtains  ☐ insect screens   ☐ solar panels  ',\n",
              "  '  \\uf0fe built-in wardrobes  \\uf0fe dishwasher  \\uf0fe light fittings  \\uf0fe stove  ',\n",
              "  '☐ ceiling fans  ☐ EV charger  ☐ pool equipment  ☐ TV antenna  ',\n",
              "  '  ☐ other:        '],\n",
              " 'exclusions': ['exclusions   ',\n",
              "  'purchaser   ',\n",
              "  ' ',\n",
              "  'purchaser’s solicitor    ',\n",
              "  'price  '],\n",
              " 'Land tax': ['Land tax  is adjustable  ☐NO ☐yes ',\n",
              "  'GST: Taxable supply  ☐NO  ☐yes in full  ☐yes to an extent  ',\n",
              "  'Margin scheme will be used in making the taxable supply  ☐NO ☐yes  ',\n",
              "  'This sale is not a taxable supply because (one or more of the following may apply) the sale is:  ',\n",
              "  ' ☐ not made in the course or furtherance of an enterpr ise that the vendor carries on (section 9 -5(b))  ']}"
            ]
          },
          "metadata": {},
          "execution_count": 91
        }
      ]
    },
    {
      "cell_type": "code",
      "source": [
        "dc[keys[0]] = dc[keys[0]][0] #vendor's name\n",
        "dc[keys[1]] = dc[keys[1]][0] #date of completion\n",
        "dc['VACANT POSSESSION'] = dc['VACANT POSSESSION'][:-2]\n",
        "dc[keys[5]] = dc[keys[5]][-2]\n",
        "dc['improvements'] = dc['improvements'][0:2]\n",
        "dc['land (address']=dc['land (address'][2:4]"
      ],
      "metadata": {
        "id": "7QAOorauFHyb"
      },
      "execution_count": null,
      "outputs": []
    },
    {
      "cell_type": "code",
      "source": [
        "dc[keys[0]] = dc[keys[0]][0] #vendor's name\n",
        "dc[keys[1]] = dc[keys[1]][0] #date of completion\n",
        "dc['VACANT POSSESSION'] = dc['VACANT POSSESSION'][:-2]\n",
        "dc[keys[5]] = dc[keys[5]][-2]\n",
        "dc['improvements'] = dc['improvements'][0:2]\n",
        "dc['land (address']=dc['land (address'][2:4]\n",
        "dc['exclusions']=dc['exclusions'][0]"
      ],
      "metadata": {
        "id": "vXcszpYxBNpx"
      },
      "execution_count": null,
      "outputs": []
    },
    {
      "cell_type": "code",
      "source": [
        "dc[keys[0]] = dc[keys[0]][0] #vendor's name\n",
        "dc[keys[1]] = dc[keys[1]][0] #date of completion\n",
        "dc['VACANT POSSESSION'] = dc['VACANT POSSESSION'][:-2]\n",
        "dc[keys[5]] = dc[keys[5]][-2]\n",
        "dc['improvements'] = dc['improvements'][0:2]\n",
        "dc['land (address']=dc['land (address'][2:4]\n",
        "dc['exclusions']=dc['exclusions'][0]\n",
        "dc['Land tax']=dc['Land tax'][0]\n"
      ],
      "metadata": {
        "id": "iEtI7noIC93P"
      },
      "execution_count": null,
      "outputs": []
    },
    {
      "cell_type": "code",
      "source": [
        "dc['vendor  '].split(' ',1)[1]\n"
      ],
      "metadata": {
        "colab": {
          "base_uri": "https://localhost:8080/",
          "height": 35
        },
        "id": "iNGFp9RxDIR-",
        "outputId": "2a409e6a-2e00-4d8e-e5af-478b896d6903"
      },
      "execution_count": null,
      "outputs": [
        {
          "output_type": "execute_result",
          "data": {
            "text/plain": [
              "' Russell David Schnaid and Caley Leanne Schnaid  '"
            ],
            "application/vnd.google.colaboratory.intrinsic+json": {
              "type": "string"
            }
          },
          "metadata": {},
          "execution_count": 98
        }
      ]
    },
    {
      "cell_type": "code",
      "source": [
        "dc['date for completion'].split('(',1)"
      ],
      "metadata": {
        "colab": {
          "base_uri": "https://localhost:8080/"
        },
        "id": "mZDaogA5EQRC",
        "outputId": "99b91fa4-4a92-4ead-e1b4-48ed944e3d63"
      },
      "execution_count": null,
      "outputs": [
        {
          "output_type": "execute_result",
          "data": {
            "text/plain": [
              "['separate notice at least 7  days  before  the date for completion . ']"
            ]
          },
          "metadata": {},
          "execution_count": 103
        }
      ]
    },
    {
      "cell_type": "code",
      "source": [
        "dc['land (address'][0].split(')',1)[1]"
      ],
      "metadata": {
        "colab": {
          "base_uri": "https://localhost:8080/",
          "height": 35
        },
        "id": "yqvCstpiFfmD",
        "outputId": "c0c417cf-d418-45be-e294-da54734e0770"
      },
      "execution_count": null,
      "outputs": [
        {
          "output_type": "execute_result",
          "data": {
            "text/plain": [
              "'  207/568 Oxford Street, Bondi Junction, New South Wales 2022  '"
            ],
            "application/vnd.google.colaboratory.intrinsic+json": {
              "type": "string"
            }
          },
          "metadata": {},
          "execution_count": 108
        }
      ]
    },
    {
      "cell_type": "code",
      "source": [
        "dc['land (address'][1].split(':',1)[1]"
      ],
      "metadata": {
        "colab": {
          "base_uri": "https://localhost:8080/",
          "height": 35
        },
        "id": "NmMreEYxFwwr",
        "outputId": "b0cccd24-2bd8-46d8-e741-9ad5e29d8581"
      },
      "execution_count": null,
      "outputs": [
        {
          "output_type": "execute_result",
          "data": {
            "text/plain": [
              "' Lot 14 Plan SP 103144  '"
            ],
            "application/vnd.google.colaboratory.intrinsic+json": {
              "type": "string"
            }
          },
          "metadata": {},
          "execution_count": 109
        }
      ]
    },
    {
      "cell_type": "code",
      "source": [
        "dc['VACANT POSSESSION'][0]"
      ],
      "metadata": {
        "colab": {
          "base_uri": "https://localhost:8080/",
          "height": 35
        },
        "id": "YGkUWPwAF4O8",
        "outputId": "b1443874-9d1c-4436-b015-127a4d0121e2"
      },
      "execution_count": null,
      "outputs": [
        {
          "output_type": "execute_result",
          "data": {
            "text/plain": [
              "'    \\uf0fe VACANT POSSESSION       ☐ subject to existing tenancies  '"
            ],
            "application/vnd.google.colaboratory.intrinsic+json": {
              "type": "string"
            }
          },
          "metadata": {},
          "execution_count": 141
        }
      ]
    },
    {
      "cell_type": "code",
      "source": [
        "re.findall(r'\\uf0fe\\s*([^☐\\uf0fe]+)', dc['VACANT POSSESSION'][0])"
      ],
      "metadata": {
        "colab": {
          "base_uri": "https://localhost:8080/"
        },
        "id": "ous0axHRMZnv",
        "outputId": "5acba7c6-ad86-4b83-f288-b1484042a857"
      },
      "execution_count": null,
      "outputs": [
        {
          "output_type": "execute_result",
          "data": {
            "text/plain": [
              "['VACANT POSSESSION       ']"
            ]
          },
          "metadata": {},
          "execution_count": 142
        }
      ]
    },
    {
      "cell_type": "code",
      "source": [
        "import re\n",
        "\n",
        "# Your input string\n",
        "input_string = \"improvements ☐ HOUSE ☐garage ☐carport \\uf0fe home unit \\uf0fecarspace \\uf0festorage space\"\n",
        "\n",
        "# Use regular expressions to find selected options\n",
        "selected_options = re.findall(r'\\uf0fe\\s*([^☐\\uf0fe]+)', input_string)\n",
        "\n",
        "# Print the selected options\n",
        "print(selected_options)"
      ],
      "metadata": {
        "colab": {
          "base_uri": "https://localhost:8080/"
        },
        "id": "i2zBXF4_LsJ9",
        "outputId": "c8589069-a8cf-4675-b84f-900e55961ab4"
      },
      "execution_count": null,
      "outputs": [
        {
          "output_type": "stream",
          "name": "stdout",
          "text": [
            "['home unit ', 'carspace ', 'storage space']\n"
          ]
        }
      ]
    },
    {
      "cell_type": "code",
      "source": [
        "dc"
      ],
      "metadata": {
        "colab": {
          "base_uri": "https://localhost:8080/"
        },
        "id": "HgUSh7uSMZk_",
        "outputId": "164d0c6c-b349-4e00-ab0b-2566d8c30ee1"
      },
      "execution_count": null,
      "outputs": [
        {
          "output_type": "execute_result",
          "data": {
            "text/plain": [
              "{'vendor  ': 'vendor  Russell David Schnaid and Caley Leanne Schnaid  ',\n",
              " 'date for completion': 'separate notice at least 7  days  before  the date for completion . ',\n",
              " 'land (address': ['title reference)  207/568 Oxford Street, Bondi Junction, New South Wales 2022  ',\n",
              "  'Registered Plan: Lot 14 Plan SP 103144  '],\n",
              " 'plan details and': ['plan details and  ',\n",
              "  'title reference)  207/568 Oxford Street, Bondi Junction, New South Wales 2022  ',\n",
              "  'Registered Plan: Lot 14 Plan SP 103144  ',\n",
              "  'Folio Identifier 14/SP103144  ',\n",
              "  '    \\uf0fe VACANT POSSESSION       ☐ subject to existing tenancies  '],\n",
              " 'VACANT POSSESSION': ['    \\uf0fe VACANT POSSESSION       ☐ subject to existing tenancies  ',\n",
              "  'improvements  ☐ HOUSE  ☐garage  ☐carport  \\uf0fe home unit  \\uf0fecarspace  \\uf0festorage space  ',\n",
              "  '☐ none  ☐other:       '],\n",
              " 'purchaser’s solicitor    ': 'balance  $1,000,000.00  ',\n",
              " 'improvements': ['improvements  ☐ HOUSE  ☐garage  ☐carport  \\uf0fe home unit  \\uf0fecarspace  \\uf0festorage space  ',\n",
              "  '☐ none  ☐other:       '],\n",
              " 'inclusions ': ['inclusions  ☐ air conditioning  ☐ clothes line  \\uf0fe fixed floor coverings  \\uf0fe range hood  ',\n",
              "  '  \\uf0fe blinds  ☐ curtains  ☐ insect screens   ☐ solar panels  ',\n",
              "  '  \\uf0fe built-in wardrobes  \\uf0fe dishwasher  \\uf0fe light fittings  \\uf0fe stove  ',\n",
              "  '☐ ceiling fans  ☐ EV charger  ☐ pool equipment  ☐ TV antenna  ',\n",
              "  '  ☐ other:        '],\n",
              " 'exclusions': 'exclusions   ',\n",
              " 'Land tax': 'Land tax  is adjustable  ☐NO ☐yes '}"
            ]
          },
          "metadata": {},
          "execution_count": 145
        }
      ]
    },
    {
      "cell_type": "code",
      "source": [
        "dc['exclusions'].split('exclusions')"
      ],
      "metadata": {
        "colab": {
          "base_uri": "https://localhost:8080/"
        },
        "id": "tfA4ld8cMZh_",
        "outputId": "3339ec0f-d7bc-4749-91e0-365cfe6cc15f"
      },
      "execution_count": null,
      "outputs": [
        {
          "output_type": "execute_result",
          "data": {
            "text/plain": [
              "['', '   ']"
            ]
          },
          "metadata": {},
          "execution_count": 146
        }
      ]
    },
    {
      "cell_type": "code",
      "source": [
        "dc['VACANT POSSESSION'][0]"
      ],
      "metadata": {
        "colab": {
          "base_uri": "https://localhost:8080/",
          "height": 35
        },
        "id": "nRLM84mKGTPt",
        "outputId": "83efba44-3e43-4130-80ce-a03e2c5664ac"
      },
      "execution_count": null,
      "outputs": [
        {
          "output_type": "execute_result",
          "data": {
            "text/plain": [
              "'    \\uf0fe VACANT POSSESSION       ☐ subject to existing tenancies  '"
            ],
            "application/vnd.google.colaboratory.intrinsic+json": {
              "type": "string"
            }
          },
          "metadata": {},
          "execution_count": 117
        }
      ]
    },
    {
      "cell_type": "code",
      "source": [
        "k=dc['VACANT POSSESSION'][1].strip(' ')\n"
      ],
      "metadata": {
        "id": "M2D-GCpOHoLn"
      },
      "execution_count": null,
      "outputs": []
    },
    {
      "cell_type": "code",
      "source": [
        "k"
      ],
      "metadata": {
        "colab": {
          "base_uri": "https://localhost:8080/",
          "height": 35
        },
        "id": "L_owvh4CIutB",
        "outputId": "e7cf0c03-5672-4f54-cf53-2c99a65d6aa7"
      },
      "execution_count": null,
      "outputs": [
        {
          "output_type": "execute_result",
          "data": {
            "text/plain": [
              "'improvements  ☐ HOUSE  ☐garage  ☐carport  \\uf0fe home unit  \\uf0fecarspace  \\uf0festorage space'"
            ],
            "application/vnd.google.colaboratory.intrinsic+json": {
              "type": "string"
            }
          },
          "metadata": {},
          "execution_count": 130
        }
      ]
    },
    {
      "cell_type": "code",
      "source": [
        "sk = '\\uf0fe'"
      ],
      "metadata": {
        "id": "XSJV3HycKgH8"
      },
      "execution_count": null,
      "outputs": []
    },
    {
      "cell_type": "code",
      "source": [
        "dc"
      ],
      "metadata": {
        "id": "P2oIM1NFKzO8"
      },
      "execution_count": null,
      "outputs": []
    },
    {
      "cell_type": "code",
      "source": [
        "re.findall(r'\\uf0fe\\s*([^☐\\uf0fe]+)', dc['Land tax'])"
      ],
      "metadata": {
        "colab": {
          "base_uri": "https://localhost:8080/"
        },
        "id": "yj3PA6qkMoWf",
        "outputId": "c7fb299d-ed41-44be-96d4-47524b6e0864"
      },
      "execution_count": null,
      "outputs": [
        {
          "output_type": "execute_result",
          "data": {
            "text/plain": [
              "[]"
            ]
          },
          "metadata": {},
          "execution_count": 144
        }
      ]
    },
    {
      "cell_type": "code",
      "source": [
        "class Retrive:\n",
        "  def __init__(self, filepath):\n",
        "    loader = PyPDFLoader(filepath)\n",
        "    pages = loader.load_and_split()\n",
        "    text_splitter = CharacterTextSplitter(chunk_size=1000, chunk_overlap=0)\n",
        "    context = \"\\n\\n\".join(str(p.page_content) for p in pages)\n",
        "    texts = text_splitter.split_text(context)\n",
        "\n",
        "    st = \"\"\n",
        "    for i in texts:\n",
        "      st += i\n",
        "\n",
        "    sents = st.split(\"\\n\")\n",
        "    keys = ['vendor  ','date for completion', 'land (address', 'plan details and', 'VACANT POSSESSION','purchaser’s solicitor    ','improvements','inclusions ','exclusions','Land tax']\n",
        "\n",
        "    dc={}\n",
        "    for item in keys:\n",
        "      for i,x in enumerate(sents):\n",
        "        if item in x:\n",
        "          dc[item] = [sents[i], sents[i+1], sents[i+2], sents[i+3],sents[i+4]]\n",
        "\n",
        "    dc[keys[0]] = dc[keys[0]][0] #vendor's name\n",
        "    dc[keys[1]] = dc[keys[1]][0] #date of completion\n",
        "    dc['VACANT POSSESSION'] = dc['VACANT POSSESSION'][:-2]\n",
        "    dc[keys[5]] = dc[keys[5]][-2]\n",
        "    dc['improvements'] = dc['improvements'][0:2]\n",
        "    dc['land (address']=dc['land (address'][2:4]\n",
        "    dc['exclusions']=dc['exclusions'][0]\n",
        "    dc['Land tax']=dc['Land tax'][0]\n",
        "\n",
        "    self.dc = dc\n",
        "\n",
        "\n",
        "  def getName(self):\n",
        "    return self.dc['vendor  '].split(' ',1)[1]\n",
        "\n",
        "  def getLandaddress(self):\n",
        "    return self.dc['land (address'][0].split(')',1)[1]\n",
        "\n",
        "  def getPlandetails(self):\n",
        "    return self.dc['land (address'][1].split(':',1)[-1]\n",
        "\n",
        "  def getSettlementdate(self):\n",
        "    doc = self.dc['date for completion'].split('(',1)\n",
        "    if len(doc) == 0:\n",
        "      return \"Need to be confirmed\"\n",
        "    return doc\n",
        "\n",
        "  def getLandstatus(self):\n",
        "    sts = re.findall(r'\\uf0fe\\s*([^☐\\uf0fe]+)', dc['VACANT POSSESSION'][0])\n",
        "    if len(sts) == 0:\n",
        "      return \"Further clarification is also required of whether the Vendor will be able to provide vacant possession on settlement.\"\n",
        "    return sts\n",
        "\n",
        "  def getPrice(self):\n",
        "    price = dc['purchaser’s solicitor    '].split('balance')[1].strip()\n",
        "    if len(price) == 0:\n",
        "      return \"TBA\"\n",
        "    return price\n",
        "\n",
        "  def getImprovments(self):\n",
        "    selected_options = re.findall(r'\\uf0fe\\s*([^☐\\uf0fe]+)', self.dc['improvements'][0])\n",
        "\n",
        "    if len(selected_options) == 0:\n",
        "      return \"Need to be confirmed\"\n",
        "    elif len(selected_options) == 1:\n",
        "      return selected_options[0]\n",
        "    else:\n",
        "      impvs = \"\"\n",
        "      for i in range(0, len(selected_options)-1):\n",
        "        impvs += selected_options[i] + ','\n",
        "      impvs += 'and' + selected_options[-1]\n",
        "      return impvs\n",
        "\n",
        "  def getInclusions(self):\n",
        "    inc = re.findall(r'\\uf0fe\\s*([^☐\\uf0fe]+)', self.dc['inclusions '][0])\n",
        "\n",
        "    if len(inc) != 0:\n",
        "      return \"Inclusions are marked under the inclusion tab of the contract\"\n",
        "    return \"Inclusions are not marked under the inclusion tab of the contract\"\n",
        "\n",
        "  def getExclusions(self):\n",
        "    exc = dc['exclusions'].split('exclusions')[1]\n",
        "    return exc\n",
        "\n",
        "  def getLandtax(self):\n",
        "    ltx = re.findall(r'\\uf0fe\\s*([^☐\\uf0fe]+)', dc['Land tax'])\n",
        "    if len(ltx) == 0:\n",
        "      return \"Land tax is not marked as adjustable or not adjustable\"\n",
        "    elif ltx[0].strip().lower() == 'no':\n",
        "      return \"Land tax is marked as not adjustable\"\n",
        "    else:\n",
        "      return \"Land tax is marked as adjustable\"\n"
      ],
      "metadata": {
        "id": "f679NO85My62"
      },
      "execution_count": null,
      "outputs": []
    },
    {
      "cell_type": "code",
      "source": [
        "rtv =  Retrive('/content/Test Example.pdf')"
      ],
      "metadata": {
        "colab": {
          "base_uri": "https://localhost:8080/"
        },
        "id": "Eg0TG0cFUm1P",
        "outputId": "ca920bd6-db5a-4d8f-8097-c3f28bed7d84"
      },
      "execution_count": null,
      "outputs": [
        {
          "output_type": "stream",
          "name": "stderr",
          "text": [
            "WARNING:langchain.text_splitter:Created a chunk of size 2557, which is longer than the specified 1000\n",
            "WARNING:langchain.text_splitter:Created a chunk of size 2637, which is longer than the specified 1000\n"
          ]
        }
      ]
    },
    {
      "cell_type": "code",
      "source": [
        "rtv.getName()"
      ],
      "metadata": {
        "colab": {
          "base_uri": "https://localhost:8080/",
          "height": 35
        },
        "id": "DciNwaGUUveW",
        "outputId": "4e5dc165-d94f-46a9-f5ba-0d72a6df4394"
      },
      "execution_count": null,
      "outputs": [
        {
          "output_type": "execute_result",
          "data": {
            "text/plain": [
              "' BRETT NICHOLAS  '"
            ],
            "application/vnd.google.colaboratory.intrinsic+json": {
              "type": "string"
            }
          },
          "metadata": {},
          "execution_count": 173
        }
      ]
    },
    {
      "cell_type": "code",
      "source": [
        "rtv.getExclusions()"
      ],
      "metadata": {
        "colab": {
          "base_uri": "https://localhost:8080/",
          "height": 35
        },
        "id": "QAU-XcGoUyZ_",
        "outputId": "da9c27aa-b744-4b75-df79-94fe4032157f"
      },
      "execution_count": null,
      "outputs": [
        {
          "output_type": "execute_result",
          "data": {
            "text/plain": [
              "'   '"
            ],
            "application/vnd.google.colaboratory.intrinsic+json": {
              "type": "string"
            }
          },
          "metadata": {},
          "execution_count": 174
        }
      ]
    },
    {
      "cell_type": "code",
      "source": [
        "rtv.dc"
      ],
      "metadata": {
        "colab": {
          "base_uri": "https://localhost:8080/"
        },
        "id": "eX3na20vVadA",
        "outputId": "b03c0a4c-eef6-4c9a-a000-465e7d9adb9f"
      },
      "execution_count": null,
      "outputs": [
        {
          "output_type": "execute_result",
          "data": {
            "text/plain": [
              "{'vendor  ': 'vendor  BRETT NICHOLAS  ',\n",
              " 'date for completion': 'notice at least 7 days  before the date for completion . ',\n",
              " 'land (address': ['title reference)  30 Bondi Street, Bondi NSW 2026  ',\n",
              "  'Lot B in Deposited Plan 379100  '],\n",
              " 'plan details and': ['plan details and  ',\n",
              "  'title reference)  30 Bondi Street, Bondi NSW 2026  ',\n",
              "  'Lot B in Deposited Plan 379100  ',\n",
              "  'Folio Identifier B/379100  ',\n",
              "  ' \\uf0fe VACANT POSSESSION       ☐ subject to existing tenancies  '],\n",
              " 'VACANT POSSESSION': [' \\uf0fe VACANT POSSESSION       ☐ subject to existing tenancies  ',\n",
              "  'improvements  \\uf0fe HOUSE  ☐garage  ☐carport  ☐ home unit  ☐carspace  ☐storage space  ',\n",
              "  '☐ none  \\uf0feother: Pool '],\n",
              " 'purchaser’s solicitor    ': 'balance  $  ',\n",
              " 'improvements': ['improvements  \\uf0fe HOUSE  ☐garage  ☐carport  ☐ home unit  ☐carspace  ☐storage space  ',\n",
              "  '☐ none  \\uf0feother: Pool '],\n",
              " 'inclusions ': ['inclusions  ',\n",
              "  ' \\uf0fe air conditioning  \\uf0fe clothes line  \\uf0fe fixed floor coverings  \\uf0fe range hood  ',\n",
              "  '  \\uf0fe blinds  \\uf0fe curtains  ☐ insect screens   ☐ solar panels  ',\n",
              "  '  \\uf0fe built-in wardrobes  \\uf0fe dishwasher  \\uf0fe light fittings  \\uf0fe stove  ',\n",
              "  '☐ ceiling fans  ☐ EV charger  \\uf0fe pool equipment  \\uf0fe TV antenna  '],\n",
              " 'exclusions': 'exclusions  Heat/smoke detector, TV in master bedroom  ',\n",
              " 'Land tax': 'Land tax is adjustable   ☒ NO ☐ yes '}"
            ]
          },
          "metadata": {},
          "execution_count": 175
        }
      ]
    },
    {
      "cell_type": "code",
      "source": [
        "rtv.getImprovments()"
      ],
      "metadata": {
        "colab": {
          "base_uri": "https://localhost:8080/",
          "height": 35
        },
        "id": "WLvjwjJbU1G3",
        "outputId": "55c4d81c-880d-401c-99fa-856eb2d29ecd"
      },
      "execution_count": null,
      "outputs": [
        {
          "output_type": "execute_result",
          "data": {
            "text/plain": [
              "'HOUSE  '"
            ],
            "application/vnd.google.colaboratory.intrinsic+json": {
              "type": "string"
            }
          },
          "metadata": {},
          "execution_count": 176
        }
      ]
    },
    {
      "cell_type": "code",
      "source": [
        "rtv.getInclusions()"
      ],
      "metadata": {
        "colab": {
          "base_uri": "https://localhost:8080/",
          "height": 35
        },
        "id": "NOqUvT9ZU3Nn",
        "outputId": "033d7fdc-de8c-4370-bfb7-36998f1a1c23"
      },
      "execution_count": null,
      "outputs": [
        {
          "output_type": "execute_result",
          "data": {
            "text/plain": [
              "'Inclusions are not marked under the inclusion tab of the contract'"
            ],
            "application/vnd.google.colaboratory.intrinsic+json": {
              "type": "string"
            }
          },
          "metadata": {},
          "execution_count": 177
        }
      ]
    },
    {
      "cell_type": "code",
      "source": [
        "rtv.getLandaddress()"
      ],
      "metadata": {
        "colab": {
          "base_uri": "https://localhost:8080/",
          "height": 35
        },
        "id": "0DZwNqDwU6Ov",
        "outputId": "35432e2e-f11e-4bff-c91c-8dd0de1e2464"
      },
      "execution_count": null,
      "outputs": [
        {
          "output_type": "execute_result",
          "data": {
            "text/plain": [
              "'  30 Bondi Street, Bondi NSW 2026  '"
            ],
            "application/vnd.google.colaboratory.intrinsic+json": {
              "type": "string"
            }
          },
          "metadata": {},
          "execution_count": 178
        }
      ]
    },
    {
      "cell_type": "code",
      "source": [
        "rtv.getLandstatus()"
      ],
      "metadata": {
        "colab": {
          "base_uri": "https://localhost:8080/"
        },
        "id": "R1wfsLkaU8lH",
        "outputId": "f56d7362-3256-47c4-f29d-a9ae7e923244"
      },
      "execution_count": null,
      "outputs": [
        {
          "output_type": "execute_result",
          "data": {
            "text/plain": [
              "['VACANT POSSESSION       ']"
            ]
          },
          "metadata": {},
          "execution_count": 179
        }
      ]
    },
    {
      "cell_type": "code",
      "source": [
        "rtv.getLandtax()"
      ],
      "metadata": {
        "colab": {
          "base_uri": "https://localhost:8080/",
          "height": 35
        },
        "id": "BIYbPz-bU_FP",
        "outputId": "876293b0-9cd4-458b-ba19-f12ab2bb68ed"
      },
      "execution_count": null,
      "outputs": [
        {
          "output_type": "execute_result",
          "data": {
            "text/plain": [
              "'Land tax is not marked as adjustable or not adjustable'"
            ],
            "application/vnd.google.colaboratory.intrinsic+json": {
              "type": "string"
            }
          },
          "metadata": {},
          "execution_count": 180
        }
      ]
    },
    {
      "cell_type": "code",
      "source": [
        "rtv.getPlandetails()"
      ],
      "metadata": {
        "colab": {
          "base_uri": "https://localhost:8080/",
          "height": 35
        },
        "id": "P4DwEFZqVCho",
        "outputId": "35116b0f-3624-4d32-8363-75219108c9bf"
      },
      "execution_count": null,
      "outputs": [
        {
          "output_type": "execute_result",
          "data": {
            "text/plain": [
              "'Lot B in Deposited Plan 379100  '"
            ],
            "application/vnd.google.colaboratory.intrinsic+json": {
              "type": "string"
            }
          },
          "metadata": {},
          "execution_count": 181
        }
      ]
    },
    {
      "cell_type": "code",
      "source": [
        "rtv.getPrice()"
      ],
      "metadata": {
        "colab": {
          "base_uri": "https://localhost:8080/",
          "height": 35
        },
        "id": "ZzKZZN-RVFDu",
        "outputId": "22387977-ba5b-4158-aa3f-c5a08a1c321b"
      },
      "execution_count": null,
      "outputs": [
        {
          "output_type": "execute_result",
          "data": {
            "text/plain": [
              "'$1,000,000.00'"
            ],
            "application/vnd.google.colaboratory.intrinsic+json": {
              "type": "string"
            }
          },
          "metadata": {},
          "execution_count": 157
        }
      ]
    },
    {
      "cell_type": "code",
      "source": [
        "rtv.getSettlementdate()"
      ],
      "metadata": {
        "colab": {
          "base_uri": "https://localhost:8080/"
        },
        "id": "qkdqgHP4VJWX",
        "outputId": "6a7e0aa0-f539-44fe-80f0-07e53b4c57ad"
      },
      "execution_count": null,
      "outputs": [
        {
          "output_type": "execute_result",
          "data": {
            "text/plain": [
              "['notice at least 7 days  before the date for completion . ']"
            ]
          },
          "metadata": {},
          "execution_count": 158
        }
      ]
    },
    {
      "cell_type": "code",
      "source": [],
      "metadata": {
        "id": "KtXiRhNXVMC_"
      },
      "execution_count": null,
      "outputs": []
    }
  ]
}